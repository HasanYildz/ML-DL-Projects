{
 "cells": [
  {
   "cell_type": "code",
   "execution_count": 1,
   "id": "60a1f7d1",
   "metadata": {
    "_cell_guid": "b1076dfc-b9ad-4769-8c92-a6c4dae69d19",
    "_uuid": "8f2839f25d086af736a60e9eeb907d3b93b6e0e5",
    "execution": {
     "iopub.execute_input": "2023-10-23T13:02:15.242253Z",
     "iopub.status.busy": "2023-10-23T13:02:15.241433Z",
     "iopub.status.idle": "2023-10-23T13:02:26.884952Z",
     "shell.execute_reply": "2023-10-23T13:02:26.882855Z"
    },
    "papermill": {
     "duration": 11.653898,
     "end_time": "2023-10-23T13:02:26.887696",
     "exception": false,
     "start_time": "2023-10-23T13:02:15.233798",
     "status": "completed"
    },
    "tags": []
   },
   "outputs": [],
   "source": [
    "import tensorflow as tf \n",
    "from keras.preprocessing.image import ImageDataGenerator"
   ]
  },
  {
   "cell_type": "markdown",
   "id": "719c663e",
   "metadata": {
    "papermill": {
     "duration": 0.004832,
     "end_time": "2023-10-23T13:02:26.898122",
     "exception": false,
     "start_time": "2023-10-23T13:02:26.893290",
     "status": "completed"
    },
    "tags": []
   },
   "source": [
    "### Train Set Preprocessing"
   ]
  },
  {
   "cell_type": "code",
   "execution_count": 2,
   "id": "8baf4251",
   "metadata": {
    "execution": {
     "iopub.execute_input": "2023-10-23T13:02:26.910227Z",
     "iopub.status.busy": "2023-10-23T13:02:26.909257Z",
     "iopub.status.idle": "2023-10-23T13:02:26.961913Z",
     "shell.execute_reply": "2023-10-23T13:02:26.960171Z"
    },
    "papermill": {
     "duration": 0.062442,
     "end_time": "2023-10-23T13:02:26.965494",
     "exception": false,
     "start_time": "2023-10-23T13:02:26.903052",
     "status": "completed"
    },
    "tags": []
   },
   "outputs": [
    {
     "name": "stdout",
     "output_type": "stream",
     "text": [
      "Found 557 images belonging to 2 classes.\n"
     ]
    }
   ],
   "source": [
    "train_datagen = ImageDataGenerator(rescale=1./255,\n",
    "                                  shear_range = 0.2,\n",
    "                                  zoom_range = 0.2,\n",
    "                                  horizontal_flip = True)\n",
    "training_set = train_datagen.flow_from_directory('/kaggle/input/cats-and-dogs-image-classification/train',\n",
    "                                                target_size=(64,64),\n",
    "                                                batch_size = 32,\n",
    "                                                class_mode ='binary')"
   ]
  },
  {
   "cell_type": "markdown",
   "id": "fefb3124",
   "metadata": {
    "papermill": {
     "duration": 0.004955,
     "end_time": "2023-10-23T13:02:26.976174",
     "exception": false,
     "start_time": "2023-10-23T13:02:26.971219",
     "status": "completed"
    },
    "tags": []
   },
   "source": [
    "### Test Set Preprocessing"
   ]
  },
  {
   "cell_type": "code",
   "execution_count": 3,
   "id": "16b486b6",
   "metadata": {
    "execution": {
     "iopub.execute_input": "2023-10-23T13:02:26.988674Z",
     "iopub.status.busy": "2023-10-23T13:02:26.988189Z",
     "iopub.status.idle": "2023-10-23T13:02:27.018764Z",
     "shell.execute_reply": "2023-10-23T13:02:27.017439Z"
    },
    "papermill": {
     "duration": 0.039395,
     "end_time": "2023-10-23T13:02:27.020773",
     "exception": false,
     "start_time": "2023-10-23T13:02:26.981378",
     "status": "completed"
    },
    "tags": []
   },
   "outputs": [
    {
     "name": "stdout",
     "output_type": "stream",
     "text": [
      "Found 140 images belonging to 2 classes.\n"
     ]
    }
   ],
   "source": [
    "test_dategen = ImageDataGenerator(rescale=1./255)\n",
    "\n",
    "test_set = test_dategen.flow_from_directory('/kaggle/input/cats-and-dogs-image-classification/test',\n",
    "                                                target_size=(64,64),\n",
    "                                                batch_size = 32,\n",
    "                                                class_mode ='binary')"
   ]
  },
  {
   "cell_type": "markdown",
   "id": "bb0f8f5c",
   "metadata": {
    "papermill": {
     "duration": 0.00477,
     "end_time": "2023-10-23T13:02:27.030872",
     "exception": false,
     "start_time": "2023-10-23T13:02:27.026102",
     "status": "completed"
    },
    "tags": []
   },
   "source": [
    "## Creating CNN "
   ]
  },
  {
   "cell_type": "code",
   "execution_count": 4,
   "id": "9354b2a0",
   "metadata": {
    "execution": {
     "iopub.execute_input": "2023-10-23T13:02:27.044299Z",
     "iopub.status.busy": "2023-10-23T13:02:27.042662Z",
     "iopub.status.idle": "2023-10-23T13:02:27.160944Z",
     "shell.execute_reply": "2023-10-23T13:02:27.159317Z"
    },
    "papermill": {
     "duration": 0.12748,
     "end_time": "2023-10-23T13:02:27.163565",
     "exception": false,
     "start_time": "2023-10-23T13:02:27.036085",
     "status": "completed"
    },
    "tags": []
   },
   "outputs": [],
   "source": [
    "cnn = tf.keras.models.Sequential()"
   ]
  },
  {
   "cell_type": "markdown",
   "id": "74d43590",
   "metadata": {
    "papermill": {
     "duration": 0.005359,
     "end_time": "2023-10-23T13:02:27.174856",
     "exception": false,
     "start_time": "2023-10-23T13:02:27.169497",
     "status": "completed"
    },
    "tags": []
   },
   "source": [
    "### Convulation"
   ]
  },
  {
   "cell_type": "code",
   "execution_count": 5,
   "id": "b0a05272",
   "metadata": {
    "execution": {
     "iopub.execute_input": "2023-10-23T13:02:27.187377Z",
     "iopub.status.busy": "2023-10-23T13:02:27.186979Z",
     "iopub.status.idle": "2023-10-23T13:02:27.252435Z",
     "shell.execute_reply": "2023-10-23T13:02:27.251053Z"
    },
    "papermill": {
     "duration": 0.0746,
     "end_time": "2023-10-23T13:02:27.254898",
     "exception": false,
     "start_time": "2023-10-23T13:02:27.180298",
     "status": "completed"
    },
    "tags": []
   },
   "outputs": [],
   "source": [
    "cnn.add(tf.keras.layers.Conv2D(filters= 32,kernel_size=3,activation='relu',input_shape=[64,64,3]))"
   ]
  },
  {
   "cell_type": "markdown",
   "id": "597d6ed8",
   "metadata": {
    "papermill": {
     "duration": 0.005005,
     "end_time": "2023-10-23T13:02:27.265650",
     "exception": false,
     "start_time": "2023-10-23T13:02:27.260645",
     "status": "completed"
    },
    "tags": []
   },
   "source": [
    "### Pooling"
   ]
  },
  {
   "cell_type": "code",
   "execution_count": 6,
   "id": "79e61708",
   "metadata": {
    "execution": {
     "iopub.execute_input": "2023-10-23T13:02:27.277935Z",
     "iopub.status.busy": "2023-10-23T13:02:27.277577Z",
     "iopub.status.idle": "2023-10-23T13:02:27.290130Z",
     "shell.execute_reply": "2023-10-23T13:02:27.288384Z"
    },
    "papermill": {
     "duration": 0.021875,
     "end_time": "2023-10-23T13:02:27.292679",
     "exception": false,
     "start_time": "2023-10-23T13:02:27.270804",
     "status": "completed"
    },
    "tags": []
   },
   "outputs": [],
   "source": [
    "cnn.add (tf.keras.layers.MaxPool2D(pool_size=2,strides=2))"
   ]
  },
  {
   "cell_type": "markdown",
   "id": "dc729b3a",
   "metadata": {
    "papermill": {
     "duration": 0.004857,
     "end_time": "2023-10-23T13:02:27.303132",
     "exception": false,
     "start_time": "2023-10-23T13:02:27.298275",
     "status": "completed"
    },
    "tags": []
   },
   "source": [
    "### Second Convulation Layer"
   ]
  },
  {
   "cell_type": "code",
   "execution_count": 7,
   "id": "0fafe588",
   "metadata": {
    "execution": {
     "iopub.execute_input": "2023-10-23T13:02:27.314759Z",
     "iopub.status.busy": "2023-10-23T13:02:27.314431Z",
     "iopub.status.idle": "2023-10-23T13:02:27.338316Z",
     "shell.execute_reply": "2023-10-23T13:02:27.336901Z"
    },
    "papermill": {
     "duration": 0.032939,
     "end_time": "2023-10-23T13:02:27.341089",
     "exception": false,
     "start_time": "2023-10-23T13:02:27.308150",
     "status": "completed"
    },
    "tags": []
   },
   "outputs": [],
   "source": [
    "cnn.add(tf.keras.layers.Conv2D(filters= 32,kernel_size=3,activation='relu'))\n",
    "cnn.add (tf.keras.layers.MaxPool2D(pool_size=2,strides=2))"
   ]
  },
  {
   "cell_type": "markdown",
   "id": "e374cec5",
   "metadata": {
    "papermill": {
     "duration": 0.005189,
     "end_time": "2023-10-23T13:02:27.352312",
     "exception": false,
     "start_time": "2023-10-23T13:02:27.347123",
     "status": "completed"
    },
    "tags": []
   },
   "source": [
    "### Flattening"
   ]
  },
  {
   "cell_type": "code",
   "execution_count": 8,
   "id": "f41ddde5",
   "metadata": {
    "execution": {
     "iopub.execute_input": "2023-10-23T13:02:27.365013Z",
     "iopub.status.busy": "2023-10-23T13:02:27.364616Z",
     "iopub.status.idle": "2023-10-23T13:02:27.378113Z",
     "shell.execute_reply": "2023-10-23T13:02:27.377077Z"
    },
    "papermill": {
     "duration": 0.022828,
     "end_time": "2023-10-23T13:02:27.380627",
     "exception": false,
     "start_time": "2023-10-23T13:02:27.357799",
     "status": "completed"
    },
    "tags": []
   },
   "outputs": [],
   "source": [
    "cnn.add(tf.keras.layers.Flatten())"
   ]
  },
  {
   "cell_type": "markdown",
   "id": "c29d6d86",
   "metadata": {
    "papermill": {
     "duration": 0.005051,
     "end_time": "2023-10-23T13:02:27.391289",
     "exception": false,
     "start_time": "2023-10-23T13:02:27.386238",
     "status": "completed"
    },
    "tags": []
   },
   "source": [
    "### Full Connection"
   ]
  },
  {
   "cell_type": "code",
   "execution_count": 9,
   "id": "51940e48",
   "metadata": {
    "execution": {
     "iopub.execute_input": "2023-10-23T13:02:27.403416Z",
     "iopub.status.busy": "2023-10-23T13:02:27.403092Z",
     "iopub.status.idle": "2023-10-23T13:02:27.430136Z",
     "shell.execute_reply": "2023-10-23T13:02:27.429223Z"
    },
    "papermill": {
     "duration": 0.03591,
     "end_time": "2023-10-23T13:02:27.432367",
     "exception": false,
     "start_time": "2023-10-23T13:02:27.396457",
     "status": "completed"
    },
    "tags": []
   },
   "outputs": [],
   "source": [
    "cnn.add(tf.keras.layers.Dense(units=128,activation='relu'))"
   ]
  },
  {
   "cell_type": "markdown",
   "id": "7d54c749",
   "metadata": {
    "papermill": {
     "duration": 0.004966,
     "end_time": "2023-10-23T13:02:27.442861",
     "exception": false,
     "start_time": "2023-10-23T13:02:27.437895",
     "status": "completed"
    },
    "tags": []
   },
   "source": [
    "### Output Layer"
   ]
  },
  {
   "cell_type": "code",
   "execution_count": 10,
   "id": "a9b700fa",
   "metadata": {
    "execution": {
     "iopub.execute_input": "2023-10-23T13:02:27.456106Z",
     "iopub.status.busy": "2023-10-23T13:02:27.454606Z",
     "iopub.status.idle": "2023-10-23T13:02:27.475679Z",
     "shell.execute_reply": "2023-10-23T13:02:27.473927Z"
    },
    "papermill": {
     "duration": 0.030114,
     "end_time": "2023-10-23T13:02:27.478314",
     "exception": false,
     "start_time": "2023-10-23T13:02:27.448200",
     "status": "completed"
    },
    "tags": []
   },
   "outputs": [],
   "source": [
    "cnn.add(tf.keras.layers.Dense(units=1,activation='sigmoid'))"
   ]
  },
  {
   "cell_type": "markdown",
   "id": "d35f0790",
   "metadata": {
    "papermill": {
     "duration": 0.004909,
     "end_time": "2023-10-23T13:02:27.488841",
     "exception": false,
     "start_time": "2023-10-23T13:02:27.483932",
     "status": "completed"
    },
    "tags": []
   },
   "source": [
    "### Compiling"
   ]
  },
  {
   "cell_type": "code",
   "execution_count": 11,
   "id": "367961b9",
   "metadata": {
    "execution": {
     "iopub.execute_input": "2023-10-23T13:02:27.500897Z",
     "iopub.status.busy": "2023-10-23T13:02:27.500557Z",
     "iopub.status.idle": "2023-10-23T13:02:27.519963Z",
     "shell.execute_reply": "2023-10-23T13:02:27.518304Z"
    },
    "papermill": {
     "duration": 0.02847,
     "end_time": "2023-10-23T13:02:27.522590",
     "exception": false,
     "start_time": "2023-10-23T13:02:27.494120",
     "status": "completed"
    },
    "tags": []
   },
   "outputs": [],
   "source": [
    "cnn.compile(optimizer = 'adam',loss = 'binary_crossentropy',metrics = ['accuracy'])"
   ]
  },
  {
   "cell_type": "markdown",
   "id": "70ed2f2b",
   "metadata": {
    "papermill": {
     "duration": 0.005056,
     "end_time": "2023-10-23T13:02:27.533277",
     "exception": false,
     "start_time": "2023-10-23T13:02:27.528221",
     "status": "completed"
    },
    "tags": []
   },
   "source": [
    "### Training"
   ]
  },
  {
   "cell_type": "code",
   "execution_count": 12,
   "id": "47a61062",
   "metadata": {
    "execution": {
     "iopub.execute_input": "2023-10-23T13:02:27.545304Z",
     "iopub.status.busy": "2023-10-23T13:02:27.544921Z",
     "iopub.status.idle": "2023-10-23T13:06:43.063656Z",
     "shell.execute_reply": "2023-10-23T13:06:43.062018Z"
    },
    "papermill": {
     "duration": 255.528432,
     "end_time": "2023-10-23T13:06:43.066918",
     "exception": false,
     "start_time": "2023-10-23T13:02:27.538486",
     "status": "completed"
    },
    "tags": []
   },
   "outputs": [
    {
     "name": "stdout",
     "output_type": "stream",
     "text": [
      "Epoch 1/50\n",
      "18/18 [==============================] - 8s 405ms/step - loss: 0.8505 - accuracy: 0.4704 - val_loss: 0.6936 - val_accuracy: 0.5000\n",
      "Epoch 2/50\n",
      "18/18 [==============================] - 5s 263ms/step - loss: 0.6924 - accuracy: 0.5153 - val_loss: 0.6916 - val_accuracy: 0.5214\n",
      "Epoch 3/50\n",
      "18/18 [==============================] - 5s 266ms/step - loss: 0.6877 - accuracy: 0.5476 - val_loss: 0.6875 - val_accuracy: 0.4929\n",
      "Epoch 4/50\n",
      "18/18 [==============================] - 5s 263ms/step - loss: 0.6796 - accuracy: 0.5835 - val_loss: 0.6863 - val_accuracy: 0.5357\n",
      "Epoch 5/50\n",
      "18/18 [==============================] - 5s 260ms/step - loss: 0.6569 - accuracy: 0.6014 - val_loss: 0.6771 - val_accuracy: 0.5786\n",
      "Epoch 6/50\n",
      "18/18 [==============================] - 5s 257ms/step - loss: 0.6385 - accuracy: 0.6302 - val_loss: 0.6856 - val_accuracy: 0.5929\n",
      "Epoch 7/50\n",
      "18/18 [==============================] - 5s 253ms/step - loss: 0.6303 - accuracy: 0.6535 - val_loss: 0.6682 - val_accuracy: 0.6714\n",
      "Epoch 8/50\n",
      "18/18 [==============================] - 5s 273ms/step - loss: 0.6107 - accuracy: 0.6553 - val_loss: 0.6767 - val_accuracy: 0.6214\n",
      "Epoch 9/50\n",
      "18/18 [==============================] - 5s 278ms/step - loss: 0.5981 - accuracy: 0.7020 - val_loss: 0.6321 - val_accuracy: 0.7143\n",
      "Epoch 10/50\n",
      "18/18 [==============================] - 5s 278ms/step - loss: 0.5971 - accuracy: 0.6607 - val_loss: 0.6204 - val_accuracy: 0.6286\n",
      "Epoch 11/50\n",
      "18/18 [==============================] - 5s 257ms/step - loss: 0.5861 - accuracy: 0.6948 - val_loss: 0.6595 - val_accuracy: 0.6500\n",
      "Epoch 12/50\n",
      "18/18 [==============================] - 5s 252ms/step - loss: 0.5339 - accuracy: 0.7110 - val_loss: 0.6894 - val_accuracy: 0.6214\n",
      "Epoch 13/50\n",
      "18/18 [==============================] - 4s 249ms/step - loss: 0.5365 - accuracy: 0.7415 - val_loss: 0.6785 - val_accuracy: 0.6286\n",
      "Epoch 14/50\n",
      "18/18 [==============================] - 5s 258ms/step - loss: 0.5324 - accuracy: 0.7289 - val_loss: 0.6310 - val_accuracy: 0.6000\n",
      "Epoch 15/50\n",
      "18/18 [==============================] - 5s 265ms/step - loss: 0.5175 - accuracy: 0.7469 - val_loss: 0.6351 - val_accuracy: 0.6500\n",
      "Epoch 16/50\n",
      "18/18 [==============================] - 5s 266ms/step - loss: 0.4890 - accuracy: 0.7612 - val_loss: 0.7212 - val_accuracy: 0.6429\n",
      "Epoch 17/50\n",
      "18/18 [==============================] - 5s 258ms/step - loss: 0.4594 - accuracy: 0.7720 - val_loss: 0.6727 - val_accuracy: 0.6429\n",
      "Epoch 18/50\n",
      "18/18 [==============================] - 5s 257ms/step - loss: 0.4442 - accuracy: 0.7989 - val_loss: 0.7279 - val_accuracy: 0.6429\n",
      "Epoch 19/50\n",
      "18/18 [==============================] - 5s 255ms/step - loss: 0.4020 - accuracy: 0.8259 - val_loss: 0.7895 - val_accuracy: 0.6357\n",
      "Epoch 20/50\n",
      "18/18 [==============================] - 4s 245ms/step - loss: 0.4455 - accuracy: 0.8061 - val_loss: 0.6965 - val_accuracy: 0.6357\n",
      "Epoch 21/50\n",
      "18/18 [==============================] - 4s 244ms/step - loss: 0.4204 - accuracy: 0.8079 - val_loss: 0.6563 - val_accuracy: 0.6643\n",
      "Epoch 22/50\n",
      "18/18 [==============================] - 4s 241ms/step - loss: 0.4115 - accuracy: 0.8259 - val_loss: 0.6350 - val_accuracy: 0.6500\n",
      "Epoch 23/50\n",
      "18/18 [==============================] - 4s 254ms/step - loss: 0.3640 - accuracy: 0.8312 - val_loss: 0.8024 - val_accuracy: 0.6571\n",
      "Epoch 24/50\n",
      "18/18 [==============================] - 5s 250ms/step - loss: 0.3598 - accuracy: 0.8384 - val_loss: 0.6844 - val_accuracy: 0.6786\n",
      "Epoch 25/50\n",
      "18/18 [==============================] - 4s 245ms/step - loss: 0.3451 - accuracy: 0.8654 - val_loss: 0.7086 - val_accuracy: 0.7071\n",
      "Epoch 26/50\n",
      "18/18 [==============================] - 5s 245ms/step - loss: 0.3606 - accuracy: 0.8420 - val_loss: 0.7317 - val_accuracy: 0.6643\n",
      "Epoch 27/50\n",
      "18/18 [==============================] - 4s 245ms/step - loss: 0.3128 - accuracy: 0.8815 - val_loss: 0.7020 - val_accuracy: 0.6857\n",
      "Epoch 28/50\n",
      "18/18 [==============================] - 5s 249ms/step - loss: 0.2794 - accuracy: 0.8815 - val_loss: 0.7895 - val_accuracy: 0.6214\n",
      "Epoch 29/50\n",
      "18/18 [==============================] - 5s 247ms/step - loss: 0.2680 - accuracy: 0.9031 - val_loss: 0.7457 - val_accuracy: 0.6643\n",
      "Epoch 30/50\n",
      "18/18 [==============================] - 5s 254ms/step - loss: 0.2478 - accuracy: 0.8869 - val_loss: 0.7366 - val_accuracy: 0.6857\n",
      "Epoch 31/50\n",
      "18/18 [==============================] - 4s 247ms/step - loss: 0.2581 - accuracy: 0.8959 - val_loss: 0.8911 - val_accuracy: 0.6786\n",
      "Epoch 32/50\n",
      "18/18 [==============================] - 5s 248ms/step - loss: 0.2962 - accuracy: 0.8743 - val_loss: 0.7687 - val_accuracy: 0.7000\n",
      "Epoch 33/50\n",
      "18/18 [==============================] - 4s 246ms/step - loss: 0.2214 - accuracy: 0.9228 - val_loss: 0.9651 - val_accuracy: 0.6286\n",
      "Epoch 34/50\n",
      "18/18 [==============================] - 4s 252ms/step - loss: 0.2426 - accuracy: 0.8905 - val_loss: 0.8362 - val_accuracy: 0.6571\n",
      "Epoch 35/50\n",
      "18/18 [==============================] - 5s 272ms/step - loss: 0.2223 - accuracy: 0.9228 - val_loss: 0.9076 - val_accuracy: 0.6929\n",
      "Epoch 36/50\n",
      "18/18 [==============================] - 4s 248ms/step - loss: 0.1885 - accuracy: 0.9300 - val_loss: 1.0090 - val_accuracy: 0.6286\n",
      "Epoch 37/50\n",
      "18/18 [==============================] - 5s 281ms/step - loss: 0.2419 - accuracy: 0.8887 - val_loss: 1.1056 - val_accuracy: 0.6571\n",
      "Epoch 38/50\n",
      "18/18 [==============================] - 5s 276ms/step - loss: 0.2196 - accuracy: 0.9102 - val_loss: 0.8555 - val_accuracy: 0.7143\n",
      "Epoch 39/50\n",
      "18/18 [==============================] - 5s 272ms/step - loss: 0.1618 - accuracy: 0.9318 - val_loss: 0.8686 - val_accuracy: 0.6929\n",
      "Epoch 40/50\n",
      "18/18 [==============================] - 5s 259ms/step - loss: 0.1516 - accuracy: 0.9354 - val_loss: 0.9024 - val_accuracy: 0.6714\n",
      "Epoch 41/50\n",
      "18/18 [==============================] - 5s 249ms/step - loss: 0.1607 - accuracy: 0.9479 - val_loss: 0.9341 - val_accuracy: 0.6500\n",
      "Epoch 42/50\n",
      "18/18 [==============================] - 4s 245ms/step - loss: 0.1686 - accuracy: 0.9354 - val_loss: 1.0727 - val_accuracy: 0.6786\n",
      "Epoch 43/50\n",
      "18/18 [==============================] - 4s 239ms/step - loss: 0.1762 - accuracy: 0.9390 - val_loss: 1.0276 - val_accuracy: 0.6429\n",
      "Epoch 44/50\n",
      "18/18 [==============================] - 4s 238ms/step - loss: 0.1795 - accuracy: 0.9336 - val_loss: 0.9846 - val_accuracy: 0.6786\n",
      "Epoch 45/50\n",
      "18/18 [==============================] - 4s 245ms/step - loss: 0.1636 - accuracy: 0.9408 - val_loss: 0.9489 - val_accuracy: 0.6357\n",
      "Epoch 46/50\n",
      "18/18 [==============================] - 4s 242ms/step - loss: 0.1257 - accuracy: 0.9605 - val_loss: 0.9531 - val_accuracy: 0.6929\n",
      "Epoch 47/50\n",
      "18/18 [==============================] - 4s 247ms/step - loss: 0.1205 - accuracy: 0.9641 - val_loss: 1.0276 - val_accuracy: 0.7000\n",
      "Epoch 48/50\n",
      "18/18 [==============================] - 5s 249ms/step - loss: 0.1137 - accuracy: 0.9587 - val_loss: 1.0506 - val_accuracy: 0.6643\n",
      "Epoch 49/50\n",
      "18/18 [==============================] - 5s 282ms/step - loss: 0.1069 - accuracy: 0.9587 - val_loss: 1.2416 - val_accuracy: 0.6714\n",
      "Epoch 50/50\n",
      "18/18 [==============================] - 5s 274ms/step - loss: 0.1024 - accuracy: 0.9551 - val_loss: 1.0536 - val_accuracy: 0.6643\n"
     ]
    },
    {
     "data": {
      "text/plain": [
       "<keras.callbacks.History at 0x7f4424185de0>"
      ]
     },
     "execution_count": 12,
     "metadata": {},
     "output_type": "execute_result"
    }
   ],
   "source": [
    "cnn.fit(x = training_set ,validation_data = test_set , epochs = 50)"
   ]
  },
  {
   "cell_type": "markdown",
   "id": "e199549e",
   "metadata": {
    "papermill": {
     "duration": 0.060491,
     "end_time": "2023-10-23T13:06:43.189924",
     "exception": false,
     "start_time": "2023-10-23T13:06:43.129433",
     "status": "completed"
    },
    "tags": []
   },
   "source": [
    "# Test module"
   ]
  },
  {
   "cell_type": "code",
   "execution_count": 13,
   "id": "7094d0fd",
   "metadata": {
    "execution": {
     "iopub.execute_input": "2023-10-23T13:06:43.313377Z",
     "iopub.status.busy": "2023-10-23T13:06:43.313050Z",
     "iopub.status.idle": "2023-10-23T13:06:43.499438Z",
     "shell.execute_reply": "2023-10-23T13:06:43.497957Z"
    },
    "papermill": {
     "duration": 0.25183,
     "end_time": "2023-10-23T13:06:43.502371",
     "exception": false,
     "start_time": "2023-10-23T13:06:43.250541",
     "status": "completed"
    },
    "tags": []
   },
   "outputs": [
    {
     "name": "stdout",
     "output_type": "stream",
     "text": [
      "1/1 [==============================] - 0s 107ms/step\n",
      "The prediction is: cat\n"
     ]
    }
   ],
   "source": [
    "import numpy as np\n",
    "from keras.preprocessing import image\n",
    "from PIL import Image\n",
    "\n",
    "test_image = Image.open('/kaggle/input/cat-or-dog/images.jfif')\n",
    "test_image = test_image.resize((64, 64))  \n",
    "\n",
    "test_image = np.array(test_image)\n",
    "\n",
    "test_image = np.expand_dims(test_image, axis=0)\n",
    "\n",
    "result = cnn.predict(test_image)\n",
    "\n",
    "if result[0][0] == 1:\n",
    "    prediction = 'dog'\n",
    "else:\n",
    "    prediction = 'cat'\n",
    "\n",
    "print(f'The prediction is: {prediction}')"
   ]
  },
  {
   "cell_type": "code",
   "execution_count": null,
   "id": "dcf46355",
   "metadata": {
    "papermill": {
     "duration": 0.061069,
     "end_time": "2023-10-23T13:06:43.626472",
     "exception": false,
     "start_time": "2023-10-23T13:06:43.565403",
     "status": "completed"
    },
    "tags": []
   },
   "outputs": [],
   "source": []
  },
  {
   "cell_type": "code",
   "execution_count": null,
   "id": "3ef71ca8",
   "metadata": {
    "papermill": {
     "duration": 0.060629,
     "end_time": "2023-10-23T13:06:43.747473",
     "exception": false,
     "start_time": "2023-10-23T13:06:43.686844",
     "status": "completed"
    },
    "tags": []
   },
   "outputs": [],
   "source": []
  },
  {
   "cell_type": "code",
   "execution_count": null,
   "id": "0fbd2b40",
   "metadata": {
    "papermill": {
     "duration": 0.060019,
     "end_time": "2023-10-23T13:06:43.867297",
     "exception": false,
     "start_time": "2023-10-23T13:06:43.807278",
     "status": "completed"
    },
    "tags": []
   },
   "outputs": [],
   "source": []
  }
 ],
 "metadata": {
  "kernelspec": {
   "display_name": "Python 3",
   "language": "python",
   "name": "python3"
  },
  "language_info": {
   "codemirror_mode": {
    "name": "ipython",
    "version": 3
   },
   "file_extension": ".py",
   "mimetype": "text/x-python",
   "name": "python",
   "nbconvert_exporter": "python",
   "pygments_lexer": "ipython3",
   "version": "3.10.12"
  },
  "papermill": {
   "default_parameters": {},
   "duration": 274.423459,
   "end_time": "2023-10-23T13:06:46.561127",
   "environment_variables": {},
   "exception": null,
   "input_path": "__notebook__.ipynb",
   "output_path": "__notebook__.ipynb",
   "parameters": {},
   "start_time": "2023-10-23T13:02:12.137668",
   "version": "2.4.0"
  }
 },
 "nbformat": 4,
 "nbformat_minor": 5
}
