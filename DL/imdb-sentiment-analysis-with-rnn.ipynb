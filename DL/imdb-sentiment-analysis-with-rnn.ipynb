{
 "cells": [
  {
   "cell_type": "code",
   "execution_count": 1,
   "id": "b4f23df6",
   "metadata": {
    "_cell_guid": "b1076dfc-b9ad-4769-8c92-a6c4dae69d19",
    "_uuid": "8f2839f25d086af736a60e9eeb907d3b93b6e0e5",
    "execution": {
     "iopub.execute_input": "2023-10-30T19:15:44.864543Z",
     "iopub.status.busy": "2023-10-30T19:15:44.863820Z",
     "iopub.status.idle": "2023-10-30T19:15:56.788786Z",
     "shell.execute_reply": "2023-10-30T19:15:56.787558Z"
    },
    "papermill": {
     "duration": 11.942315,
     "end_time": "2023-10-30T19:15:56.791811",
     "exception": false,
     "start_time": "2023-10-30T19:15:44.849496",
     "status": "completed"
    },
    "tags": []
   },
   "outputs": [],
   "source": [
    "import numpy as np\n",
    "import matplotlib.pyplot as plt\n",
    "import seaborn as sns\n",
    "\n",
    "from tensorflow.keras.datasets import imdb\n",
    "from tensorflow.keras.preprocessing.sequence import pad_sequences\n",
    "\n",
    "from tensorflow.keras.models import Sequential\n",
    "from tensorflow.keras.layers import Embedding, SimpleRNN, Dense, Activation"
   ]
  },
  {
   "cell_type": "markdown",
   "id": "8b0d25b8",
   "metadata": {
    "papermill": {
     "duration": 0.012799,
     "end_time": "2023-10-30T19:15:56.817404",
     "exception": false,
     "start_time": "2023-10-30T19:15:56.804605",
     "status": "completed"
    },
    "tags": []
   },
   "source": [
    "# Data Preprocessing"
   ]
  },
  {
   "cell_type": "code",
   "execution_count": 2,
   "id": "fad9b5c7",
   "metadata": {
    "execution": {
     "iopub.execute_input": "2023-10-30T19:15:56.844399Z",
     "iopub.status.busy": "2023-10-30T19:15:56.843616Z",
     "iopub.status.idle": "2023-10-30T19:16:04.424072Z",
     "shell.execute_reply": "2023-10-30T19:16:04.422861Z"
    },
    "papermill": {
     "duration": 7.597511,
     "end_time": "2023-10-30T19:16:04.427311",
     "exception": false,
     "start_time": "2023-10-30T19:15:56.829800",
     "status": "completed"
    },
    "tags": []
   },
   "outputs": [
    {
     "name": "stdout",
     "output_type": "stream",
     "text": [
      "Downloading data from https://storage.googleapis.com/tensorflow/tf-keras-datasets/imdb.npz\n",
      "17464789/17464789 [==============================] - 1s 0us/step\n"
     ]
    }
   ],
   "source": [
    "(x_train, y_train), (x_test, y_test) = imdb.load_data(seed=113, start_char=-1, oov_char=-2, index_from=3)"
   ]
  },
  {
   "cell_type": "code",
   "execution_count": 3,
   "id": "5b757fcd",
   "metadata": {
    "execution": {
     "iopub.execute_input": "2023-10-30T19:16:04.458746Z",
     "iopub.status.busy": "2023-10-30T19:16:04.457912Z",
     "iopub.status.idle": "2023-10-30T19:16:04.467200Z",
     "shell.execute_reply": "2023-10-30T19:16:04.465883Z"
    },
    "papermill": {
     "duration": 0.028358,
     "end_time": "2023-10-30T19:16:04.470230",
     "exception": false,
     "start_time": "2023-10-30T19:16:04.441872",
     "status": "completed"
    },
    "tags": []
   },
   "outputs": [
    {
     "data": {
      "text/plain": [
       "(25000,)"
      ]
     },
     "execution_count": 3,
     "metadata": {},
     "output_type": "execute_result"
    }
   ],
   "source": [
    "x_train.shape"
   ]
  },
  {
   "cell_type": "code",
   "execution_count": 4,
   "id": "7ebbac78",
   "metadata": {
    "execution": {
     "iopub.execute_input": "2023-10-30T19:16:04.503814Z",
     "iopub.status.busy": "2023-10-30T19:16:04.503374Z",
     "iopub.status.idle": "2023-10-30T19:16:04.513900Z",
     "shell.execute_reply": "2023-10-30T19:16:04.512684Z"
    },
    "papermill": {
     "duration": 0.03157,
     "end_time": "2023-10-30T19:16:04.516452",
     "exception": false,
     "start_time": "2023-10-30T19:16:04.484882",
     "status": "completed"
    },
    "tags": []
   },
   "outputs": [
    {
     "data": {
      "text/plain": [
       "array([0, 1])"
      ]
     },
     "execution_count": 4,
     "metadata": {},
     "output_type": "execute_result"
    }
   ],
   "source": [
    "np.unique(y_train)"
   ]
  },
  {
   "cell_type": "code",
   "execution_count": 5,
   "id": "8e3d1a70",
   "metadata": {
    "execution": {
     "iopub.execute_input": "2023-10-30T19:16:04.549232Z",
     "iopub.status.busy": "2023-10-30T19:16:04.548803Z",
     "iopub.status.idle": "2023-10-30T19:16:04.555328Z",
     "shell.execute_reply": "2023-10-30T19:16:04.554158Z"
    },
    "papermill": {
     "duration": 0.026157,
     "end_time": "2023-10-30T19:16:04.557934",
     "exception": false,
     "start_time": "2023-10-30T19:16:04.531777",
     "status": "completed"
    },
    "tags": []
   },
   "outputs": [],
   "source": [
    "unique, counts = np.unique(y_train,return_counts=True)"
   ]
  },
  {
   "cell_type": "code",
   "execution_count": 6,
   "id": "cd8fd6ba",
   "metadata": {
    "execution": {
     "iopub.execute_input": "2023-10-30T19:16:04.588184Z",
     "iopub.status.busy": "2023-10-30T19:16:04.587754Z",
     "iopub.status.idle": "2023-10-30T19:16:04.593953Z",
     "shell.execute_reply": "2023-10-30T19:16:04.592670Z"
    },
    "papermill": {
     "duration": 0.024278,
     "end_time": "2023-10-30T19:16:04.596570",
     "exception": false,
     "start_time": "2023-10-30T19:16:04.572292",
     "status": "completed"
    },
    "tags": []
   },
   "outputs": [
    {
     "name": "stdout",
     "output_type": "stream",
     "text": [
      "{0: 12500, 1: 12500}\n"
     ]
    }
   ],
   "source": [
    "print(dict(zip(unique,counts)))"
   ]
  },
  {
   "cell_type": "code",
   "execution_count": 7,
   "id": "53878253",
   "metadata": {
    "execution": {
     "iopub.execute_input": "2023-10-30T19:16:04.627455Z",
     "iopub.status.busy": "2023-10-30T19:16:04.627025Z",
     "iopub.status.idle": "2023-10-30T19:16:04.633502Z",
     "shell.execute_reply": "2023-10-30T19:16:04.632148Z"
    },
    "papermill": {
     "duration": 0.025244,
     "end_time": "2023-10-30T19:16:04.636362",
     "exception": false,
     "start_time": "2023-10-30T19:16:04.611118",
     "status": "completed"
    },
    "tags": []
   },
   "outputs": [],
   "source": [
    "unique, counts = np.unique(y_test,return_counts=True)"
   ]
  },
  {
   "cell_type": "code",
   "execution_count": 8,
   "id": "6fc7f97e",
   "metadata": {
    "execution": {
     "iopub.execute_input": "2023-10-30T19:16:04.667822Z",
     "iopub.status.busy": "2023-10-30T19:16:04.667371Z",
     "iopub.status.idle": "2023-10-30T19:16:04.673979Z",
     "shell.execute_reply": "2023-10-30T19:16:04.672797Z"
    },
    "papermill": {
     "duration": 0.025082,
     "end_time": "2023-10-30T19:16:04.676653",
     "exception": false,
     "start_time": "2023-10-30T19:16:04.651571",
     "status": "completed"
    },
    "tags": []
   },
   "outputs": [
    {
     "name": "stdout",
     "output_type": "stream",
     "text": [
      "{0: 12500, 1: 12500}\n"
     ]
    }
   ],
   "source": [
    "print(dict(zip(unique,counts)))"
   ]
  },
  {
   "cell_type": "code",
   "execution_count": 9,
   "id": "029c58aa",
   "metadata": {
    "execution": {
     "iopub.execute_input": "2023-10-30T19:16:04.708121Z",
     "iopub.status.busy": "2023-10-30T19:16:04.707691Z",
     "iopub.status.idle": "2023-10-30T19:16:05.003914Z",
     "shell.execute_reply": "2023-10-30T19:16:05.002528Z"
    },
    "papermill": {
     "duration": 0.315208,
     "end_time": "2023-10-30T19:16:05.006662",
     "exception": false,
     "start_time": "2023-10-30T19:16:04.691454",
     "status": "completed"
    },
    "tags": []
   },
   "outputs": [
    {
     "data": {
      "image/png": "[encoded data removed]",
      "text/plain": [
       "<Figure size 640x480 with 1 Axes>"
      ]
     },
     "metadata": {},
     "output_type": "display_data"
    }
   ],
   "source": [
    "class_counts = [np.sum(y_train == i) for i in range(2)] \n",
    "\n",
    "colors = ['darkblue', 'orange']\n",
    "\n",
    "plt.bar(['0', '1'], class_counts, color=colors)\n",
    "plt.xlabel('Classes')\n",
    "plt.ylabel('Frequency')\n",
    "plt.title('Distribution of Classes in y_train')\n",
    "plt.show()"
   ]
  },
  {
   "cell_type": "code",
   "execution_count": 10,
   "id": "91e057f9",
   "metadata": {
    "execution": {
     "iopub.execute_input": "2023-10-30T19:16:05.038219Z",
     "iopub.status.busy": "2023-10-30T19:16:05.037811Z",
     "iopub.status.idle": "2023-10-30T19:16:05.298122Z",
     "shell.execute_reply": "2023-10-30T19:16:05.296932Z"
    },
    "papermill": {
     "duration": 0.279189,
     "end_time": "2023-10-30T19:16:05.300731",
     "exception": false,
     "start_time": "2023-10-30T19:16:05.021542",
     "status": "completed"
    },
    "tags": []
   },
   "outputs": [
    {
     "data": {
      "image/png": "[encoded data removed]",
      "text/plain": [
       "<Figure size 640x480 with 1 Axes>"
      ]
     },
     "metadata": {},
     "output_type": "display_data"
    }
   ],
   "source": [
    "class_counts = [np.sum(y_test == i) for i in range(2)]\n",
    "\n",
    "colors = ['darkblue', 'orange']\n",
    "\n",
    "plt.bar(['0', '1'], class_counts, color=colors)\n",
    "plt.xlabel('Classes')\n",
    "plt.ylabel('Frequency')\n",
    "plt.title('Distribution of Classes in y_test')\n",
    "plt.show()"
   ]
  },
  {
   "cell_type": "code",
   "execution_count": 11,
   "id": "441f6588",
   "metadata": {
    "execution": {
     "iopub.execute_input": "2023-10-30T19:16:05.333651Z",
     "iopub.status.busy": "2023-10-30T19:16:05.333221Z",
     "iopub.status.idle": "2023-10-30T19:16:05.359633Z",
     "shell.execute_reply": "2023-10-30T19:16:05.358000Z"
    },
    "papermill": {
     "duration": 0.046102,
     "end_time": "2023-10-30T19:16:05.362419",
     "exception": false,
     "start_time": "2023-10-30T19:16:05.316317",
     "status": "completed"
    },
    "tags": []
   },
   "outputs": [],
   "source": [
    "review_len_train= []\n",
    "review_len_test= []\n",
    "\n",
    "for i,ii in zip(x_train,x_test):\n",
    "    review_len_train.append(len(i))\n",
    "    review_len_test.append(len(ii))"
   ]
  },
  {
   "cell_type": "code",
   "execution_count": 12,
   "id": "f7c88591",
   "metadata": {
    "execution": {
     "iopub.execute_input": "2023-10-30T19:16:05.396686Z",
     "iopub.status.busy": "2023-10-30T19:16:05.396264Z",
     "iopub.status.idle": "2023-10-30T19:16:05.404748Z",
     "shell.execute_reply": "2023-10-30T19:16:05.403494Z"
    },
    "papermill": {
     "duration": 0.027863,
     "end_time": "2023-10-30T19:16:05.407217",
     "exception": false,
     "start_time": "2023-10-30T19:16:05.379354",
     "status": "completed"
    },
    "tags": []
   },
   "outputs": [
    {
     "data": {
      "text/plain": [
       "[218, 189, 141, 550, 147, 43, 123, 562, 233, 130, 450]"
      ]
     },
     "execution_count": 12,
     "metadata": {},
     "output_type": "execute_result"
    }
   ],
   "source": [
    "review_len_train[:11]"
   ]
  },
  {
   "cell_type": "code",
   "execution_count": 13,
   "id": "7a1146d4",
   "metadata": {
    "execution": {
     "iopub.execute_input": "2023-10-30T19:16:05.441290Z",
     "iopub.status.busy": "2023-10-30T19:16:05.440887Z",
     "iopub.status.idle": "2023-10-30T19:16:06.382309Z",
     "shell.execute_reply": "2023-10-30T19:16:06.380960Z"
    },
    "papermill": {
     "duration": 0.961142,
     "end_time": "2023-10-30T19:16:06.384973",
     "exception": false,
     "start_time": "2023-10-30T19:16:05.423831",
     "status": "completed"
    },
    "tags": []
   },
   "outputs": [
    {
     "name": "stderr",
     "output_type": "stream",
     "text": [
      "/tmp/ipykernel_21/2505462126.py:1: UserWarning: \n",
      "\n",
      "`distplot` is a deprecated function and will be removed in seaborn v0.14.0.\n",
      "\n",
      "Please adapt your code to use either `displot` (a figure-level function with\n",
      "similar flexibility) or `histplot` (an axes-level function for histograms).\n",
      "\n",
      "For a guide to updating your code to use the new functions, please see\n",
      "https://gist.github.com/mwaskom/de44147ed2974457ad6372750bbe5751\n",
      "\n",
      "  sns.distplot(review_len_train, hist_kws={\"alpha\": 0.3})\n",
      "/tmp/ipykernel_21/2505462126.py:2: UserWarning: \n",
      "\n",
      "`distplot` is a deprecated function and will be removed in seaborn v0.14.0.\n",
      "\n",
      "Please adapt your code to use either `displot` (a figure-level function with\n",
      "similar flexibility) or `histplot` (an axes-level function for histograms).\n",
      "\n",
      "For a guide to updating your code to use the new functions, please see\n",
      "https://gist.github.com/mwaskom/de44147ed2974457ad6372750bbe5751\n",
      "\n",
      "  sns.distplot(review_len_test, hist_kws={\"alpha\": 0.3})\n"
     ]
    },
    {
     "data": {
      "text/plain": [
       "<Axes: ylabel='Density'>"
      ]
     },
     "execution_count": 13,
     "metadata": {},
     "output_type": "execute_result"
    },
    {
     "data": {
      "image/png": "[encoded data removed]",
      "text/plain": [
       "<Figure size 640x480 with 1 Axes>"
      ]
     },
     "metadata": {},
     "output_type": "display_data"
    }
   ],
   "source": [
    "sns.distplot(review_len_train, hist_kws={\"alpha\": 0.3})\n",
    "sns.distplot(review_len_test, hist_kws={\"alpha\": 0.3})"
   ]
  },
  {
   "cell_type": "code",
   "execution_count": 14,
   "id": "32032787",
   "metadata": {
    "execution": {
     "iopub.execute_input": "2023-10-30T19:16:06.419564Z",
     "iopub.status.busy": "2023-10-30T19:16:06.419158Z",
     "iopub.status.idle": "2023-10-30T19:16:06.433937Z",
     "shell.execute_reply": "2023-10-30T19:16:06.432503Z"
    },
    "papermill": {
     "duration": 0.034918,
     "end_time": "2023-10-30T19:16:06.436355",
     "exception": false,
     "start_time": "2023-10-30T19:16:06.401437",
     "status": "completed"
    },
    "tags": []
   },
   "outputs": [
    {
     "name": "stdout",
     "output_type": "stream",
     "text": [
      "238.71364\n",
      "178.0\n"
     ]
    }
   ],
   "source": [
    "print(np.mean(review_len_train))\n",
    "print(np.median(review_len_train))"
   ]
  },
  {
   "cell_type": "code",
   "execution_count": 15,
   "id": "985e57e0",
   "metadata": {
    "execution": {
     "iopub.execute_input": "2023-10-30T19:16:06.472297Z",
     "iopub.status.busy": "2023-10-30T19:16:06.471201Z",
     "iopub.status.idle": "2023-10-30T19:16:06.486039Z",
     "shell.execute_reply": "2023-10-30T19:16:06.483982Z"
    },
    "papermill": {
     "duration": 0.035942,
     "end_time": "2023-10-30T19:16:06.489054",
     "exception": false,
     "start_time": "2023-10-30T19:16:06.453112",
     "status": "completed"
    },
    "tags": []
   },
   "outputs": [
    {
     "name": "stdout",
     "output_type": "stream",
     "text": [
      "ModeResult(mode=132, count=196)\n"
     ]
    }
   ],
   "source": [
    "from scipy import stats\n",
    "\n",
    "print(stats.mode(review_len_train))"
   ]
  },
  {
   "cell_type": "code",
   "execution_count": 16,
   "id": "93a8a7c8",
   "metadata": {
    "execution": {
     "iopub.execute_input": "2023-10-30T19:16:06.526052Z",
     "iopub.status.busy": "2023-10-30T19:16:06.525619Z",
     "iopub.status.idle": "2023-10-30T19:16:07.274171Z",
     "shell.execute_reply": "2023-10-30T19:16:07.273048Z"
    },
    "papermill": {
     "duration": 0.77078,
     "end_time": "2023-10-30T19:16:07.277207",
     "exception": false,
     "start_time": "2023-10-30T19:16:06.506427",
     "status": "completed"
    },
    "tags": []
   },
   "outputs": [
    {
     "name": "stdout",
     "output_type": "stream",
     "text": [
      "Downloading data from https://storage.googleapis.com/tensorflow/tf-keras-datasets/imdb_word_index.json\n",
      "1641221/1641221 [==============================] - 0s 0us/step\n",
      "<class 'dict'>\n"
     ]
    }
   ],
   "source": [
    "word_index = imdb.get_word_index()\n",
    "\n",
    "print(type(word_index))"
   ]
  },
  {
   "cell_type": "code",
   "execution_count": 17,
   "id": "befe1e8d",
   "metadata": {
    "execution": {
     "iopub.execute_input": "2023-10-30T19:16:07.314637Z",
     "iopub.status.busy": "2023-10-30T19:16:07.314227Z",
     "iopub.status.idle": "2023-10-30T19:16:07.320972Z",
     "shell.execute_reply": "2023-10-30T19:16:07.319946Z"
    },
    "papermill": {
     "duration": 0.028119,
     "end_time": "2023-10-30T19:16:07.323228",
     "exception": false,
     "start_time": "2023-10-30T19:16:07.295109",
     "status": "completed"
    },
    "tags": []
   },
   "outputs": [
    {
     "data": {
      "text/plain": [
       "88584"
      ]
     },
     "execution_count": 17,
     "metadata": {},
     "output_type": "execute_result"
    }
   ],
   "source": [
    "len(word_index)"
   ]
  },
  {
   "cell_type": "code",
   "execution_count": 18,
   "id": "875ec54f",
   "metadata": {
    "execution": {
     "iopub.execute_input": "2023-10-30T19:16:07.430105Z",
     "iopub.status.busy": "2023-10-30T19:16:07.429661Z",
     "iopub.status.idle": "2023-10-30T19:16:07.450792Z",
     "shell.execute_reply": "2023-10-30T19:16:07.449475Z"
    },
    "papermill": {
     "duration": 0.043055,
     "end_time": "2023-10-30T19:16:07.453505",
     "exception": false,
     "start_time": "2023-10-30T19:16:07.410450",
     "status": "completed"
    },
    "tags": []
   },
   "outputs": [
    {
     "name": "stdout",
     "output_type": "stream",
     "text": [
      "the\n"
     ]
    }
   ],
   "source": [
    "# The Most Used Word\n",
    "for keys,values in word_index.items():\n",
    "    if values==1:\n",
    "        print(keys)"
   ]
  },
  {
   "cell_type": "markdown",
   "id": "52da6324",
   "metadata": {
    "papermill": {
     "duration": 0.017691,
     "end_time": "2023-10-30T19:16:07.490645",
     "exception": false,
     "start_time": "2023-10-30T19:16:07.472954",
     "status": "completed"
    },
    "tags": []
   },
   "source": [
    "## Filling Words"
   ]
  },
  {
   "cell_type": "code",
   "execution_count": 19,
   "id": "fde87fec",
   "metadata": {
    "execution": {
     "iopub.execute_input": "2023-10-30T19:16:07.529197Z",
     "iopub.status.busy": "2023-10-30T19:16:07.528746Z",
     "iopub.status.idle": "2023-10-30T19:16:07.535333Z",
     "shell.execute_reply": "2023-10-30T19:16:07.534208Z"
    },
    "papermill": {
     "duration": 0.029967,
     "end_time": "2023-10-30T19:16:07.538580",
     "exception": false,
     "start_time": "2023-10-30T19:16:07.508613",
     "status": "completed"
    },
    "tags": []
   },
   "outputs": [],
   "source": [
    "def whatis(index=24):\n",
    "    reverse_index =dict([(value,key) for (key,value) in word_index.items()])\n",
    "    decode_review= \" \".join([reverse_index.get(i-3,'!') for i in x_train[index]])\n",
    "    print(y_train[index])\n",
    "    return decode_review"
   ]
  },
  {
   "cell_type": "code",
   "execution_count": 20,
   "id": "0d6ea5d9",
   "metadata": {
    "execution": {
     "iopub.execute_input": "2023-10-30T19:16:07.576937Z",
     "iopub.status.busy": "2023-10-30T19:16:07.576448Z",
     "iopub.status.idle": "2023-10-30T19:16:07.616962Z",
     "shell.execute_reply": "2023-10-30T19:16:07.615513Z"
    },
    "papermill": {
     "duration": 0.06248,
     "end_time": "2023-10-30T19:16:07.619617",
     "exception": false,
     "start_time": "2023-10-30T19:16:07.557137",
     "status": "completed"
    },
    "tags": []
   },
   "outputs": [
    {
     "name": "stdout",
     "output_type": "stream",
     "text": [
      "0\n"
     ]
    }
   ],
   "source": [
    "decode_review = whatis(4)"
   ]
  },
  {
   "cell_type": "code",
   "execution_count": 21,
   "id": "4e89718d",
   "metadata": {
    "execution": {
     "iopub.execute_input": "2023-10-30T19:16:07.660327Z",
     "iopub.status.busy": "2023-10-30T19:16:07.657990Z",
     "iopub.status.idle": "2023-10-30T19:16:07.665646Z",
     "shell.execute_reply": "2023-10-30T19:16:07.664864Z"
    },
    "papermill": {
     "duration": 0.029736,
     "end_time": "2023-10-30T19:16:07.668117",
     "exception": false,
     "start_time": "2023-10-30T19:16:07.638381",
     "status": "completed"
    },
    "tags": []
   },
   "outputs": [
    {
     "data": {
      "text/plain": [
       "\"! worst mistake of my life br br i picked this movie up at target for 5 because i figured hey it's sandler i can get some cheap laughs i was wrong completely wrong mid way through the film all three of my friends were asleep and i was still suffering worst plot worst script worst movie i have ever seen i wanted to hit my head up against a wall for an hour then i'd stop and you know why because it felt damn good upon bashing my head in i stuck that damn movie in the microwave and watched it burn and that felt better than anything else i've ever done it took american psycho army of darkness and kill bill just to get over that crap i hate you sandler for actually going through with this and ruining a whole day of my life\""
      ]
     },
     "execution_count": 21,
     "metadata": {},
     "output_type": "execute_result"
    }
   ],
   "source": [
    "decode_review"
   ]
  },
  {
   "cell_type": "code",
   "execution_count": 22,
   "id": "fb91f4fc",
   "metadata": {
    "execution": {
     "iopub.execute_input": "2023-10-30T19:16:07.708021Z",
     "iopub.status.busy": "2023-10-30T19:16:07.707136Z",
     "iopub.status.idle": "2023-10-30T19:16:14.082717Z",
     "shell.execute_reply": "2023-10-30T19:16:14.081346Z"
    },
    "papermill": {
     "duration": 6.399722,
     "end_time": "2023-10-30T19:16:14.086825",
     "exception": false,
     "start_time": "2023-10-30T19:16:07.687103",
     "status": "completed"
    },
    "tags": []
   },
   "outputs": [],
   "source": [
    "num_words= 15000\n",
    "(x_train, y_train), (x_test, y_test) = imdb.load_data(num_words=num_words)"
   ]
  },
  {
   "cell_type": "code",
   "execution_count": 23,
   "id": "756a0ac4",
   "metadata": {
    "execution": {
     "iopub.execute_input": "2023-10-30T19:16:14.127668Z",
     "iopub.status.busy": "2023-10-30T19:16:14.126617Z",
     "iopub.status.idle": "2023-10-30T19:16:15.085082Z",
     "shell.execute_reply": "2023-10-30T19:16:15.083585Z"
    },
    "papermill": {
     "duration": 0.982122,
     "end_time": "2023-10-30T19:16:15.088259",
     "exception": false,
     "start_time": "2023-10-30T19:16:14.106137",
     "status": "completed"
    },
    "tags": []
   },
   "outputs": [],
   "source": [
    "maxlen = 130\n",
    "\n",
    "x_train = pad_sequences(x_train,maxlen=maxlen)\n",
    "x_test = pad_sequences(x_test,maxlen=maxlen)"
   ]
  },
  {
   "cell_type": "code",
   "execution_count": 24,
   "id": "2f0e5525",
   "metadata": {
    "execution": {
     "iopub.execute_input": "2023-10-30T19:16:15.129942Z",
     "iopub.status.busy": "2023-10-30T19:16:15.129121Z",
     "iopub.status.idle": "2023-10-30T19:16:15.136593Z",
     "shell.execute_reply": "2023-10-30T19:16:15.135538Z"
    },
    "papermill": {
     "duration": 0.030933,
     "end_time": "2023-10-30T19:16:15.138969",
     "exception": false,
     "start_time": "2023-10-30T19:16:15.108036",
     "status": "completed"
    },
    "tags": []
   },
   "outputs": [
    {
     "data": {
      "text/plain": [
       "array([   0,    0,    0,    0,    0,    0,    0,    0,    0,    0,    0,\n",
       "          0,    0,    0,    0,    0,    0,    0,    0,    0,    0,    0,\n",
       "          0,    0,    0,    0,    0,    0,    0,    0,    0,    0,    0,\n",
       "          0,    0,    0,    0,    0,    0,    0,    0,    0,    0,    0,\n",
       "          0,    0,    0,    0,    0,    0,    0,    0,    0,    0,    0,\n",
       "          0,    0,    0,    0,    0,    0,    0,    0,    0,    0,    0,\n",
       "          0,    0,    0,    0,    0,    0,    0,    0,    0,    0,    0,\n",
       "          0,    0,    0,    0,    0,    0,    0,    0,    0,    0,    1,\n",
       "        778,  128,   74,   12,  630,  163,   15,    4, 1766, 7982, 1051,\n",
       "          2,   32,   85,  156,   45,   40,  148,  139,  121,  664,  665,\n",
       "         10,   10, 1361,  173,    4,  749,    2,   16, 3804,    8,    4,\n",
       "        226,   65,   12,   43,  127,   24,    2,   10,   10], dtype=int32)"
      ]
     },
     "execution_count": 24,
     "metadata": {},
     "output_type": "execute_result"
    }
   ],
   "source": [
    "x_train[5]"
   ]
  },
  {
   "cell_type": "code",
   "execution_count": 25,
   "id": "b81325ec",
   "metadata": {
    "execution": {
     "iopub.execute_input": "2023-10-30T19:16:15.178080Z",
     "iopub.status.busy": "2023-10-30T19:16:15.177286Z",
     "iopub.status.idle": "2023-10-30T19:16:15.183563Z",
     "shell.execute_reply": "2023-10-30T19:16:15.182223Z"
    },
    "papermill": {
     "duration": 0.028423,
     "end_time": "2023-10-30T19:16:15.185858",
     "exception": false,
     "start_time": "2023-10-30T19:16:15.157435",
     "status": "completed"
    },
    "tags": []
   },
   "outputs": [
    {
     "name": "stdout",
     "output_type": "stream",
     "text": [
      "130\n",
      "130\n",
      "130\n",
      "130\n",
      "130\n",
      "130\n",
      "130\n",
      "130\n",
      "130\n",
      "130\n"
     ]
    }
   ],
   "source": [
    "for i in x_train[:10]:\n",
    "    print(len(i))"
   ]
  },
  {
   "cell_type": "code",
   "execution_count": 26,
   "id": "66817caf",
   "metadata": {
    "execution": {
     "iopub.execute_input": "2023-10-30T19:16:15.225486Z",
     "iopub.status.busy": "2023-10-30T19:16:15.224457Z",
     "iopub.status.idle": "2023-10-30T19:16:15.259217Z",
     "shell.execute_reply": "2023-10-30T19:16:15.257774Z"
    },
    "papermill": {
     "duration": 0.057524,
     "end_time": "2023-10-30T19:16:15.262088",
     "exception": false,
     "start_time": "2023-10-30T19:16:15.204564",
     "status": "completed"
    },
    "tags": []
   },
   "outputs": [
    {
     "name": "stdout",
     "output_type": "stream",
     "text": [
      "0\n"
     ]
    }
   ],
   "source": [
    "decoded_review = whatis(5)"
   ]
  },
  {
   "cell_type": "code",
   "execution_count": 27,
   "id": "1ddb7b59",
   "metadata": {
    "execution": {
     "iopub.execute_input": "2023-10-30T19:16:15.300611Z",
     "iopub.status.busy": "2023-10-30T19:16:15.300189Z",
     "iopub.status.idle": "2023-10-30T19:16:15.307648Z",
     "shell.execute_reply": "2023-10-30T19:16:15.306427Z"
    },
    "papermill": {
     "duration": 0.029476,
     "end_time": "2023-10-30T19:16:15.310067",
     "exception": false,
     "start_time": "2023-10-30T19:16:15.280591",
     "status": "completed"
    },
    "tags": []
   },
   "outputs": [
    {
     "data": {
      "text/plain": [
       "\"! ! ! ! ! ! ! ! ! ! ! ! ! ! ! ! ! ! ! ! ! ! ! ! ! ! ! ! ! ! ! ! ! ! ! ! ! ! ! ! ! ! ! ! ! ! ! ! ! ! ! ! ! ! ! ! ! ! ! ! ! ! ! ! ! ! ! ! ! ! ! ! ! ! ! ! ! ! ! ! ! ! ! ! ! ! ! ! begins better than it ends funny that the russian submarine crew ! all other actors it's like those scenes where documentary shots br br spoiler part the message ! was contrary to the whole story it just does not ! br br\""
      ]
     },
     "execution_count": 27,
     "metadata": {},
     "output_type": "execute_result"
    }
   ],
   "source": [
    "decoded_review"
   ]
  },
  {
   "cell_type": "markdown",
   "id": "ca1326e4",
   "metadata": {
    "papermill": {
     "duration": 0.01839,
     "end_time": "2023-10-30T19:16:15.347363",
     "exception": false,
     "start_time": "2023-10-30T19:16:15.328973",
     "status": "completed"
    },
    "tags": []
   },
   "source": [
    "# RNN Model"
   ]
  },
  {
   "cell_type": "code",
   "execution_count": 28,
   "id": "4f891537",
   "metadata": {
    "execution": {
     "iopub.execute_input": "2023-10-30T19:16:15.386988Z",
     "iopub.status.busy": "2023-10-30T19:16:15.386546Z",
     "iopub.status.idle": "2023-10-30T19:16:15.496908Z",
     "shell.execute_reply": "2023-10-30T19:16:15.495491Z"
    },
    "papermill": {
     "duration": 0.13422,
     "end_time": "2023-10-30T19:16:15.500470",
     "exception": false,
     "start_time": "2023-10-30T19:16:15.366250",
     "status": "completed"
    },
    "tags": []
   },
   "outputs": [],
   "source": [
    "rnn = Sequential()"
   ]
  },
  {
   "cell_type": "code",
   "execution_count": 29,
   "id": "52ba98b6",
   "metadata": {
    "execution": {
     "iopub.execute_input": "2023-10-30T19:16:15.541830Z",
     "iopub.status.busy": "2023-10-30T19:16:15.541361Z",
     "iopub.status.idle": "2023-10-30T19:16:15.605984Z",
     "shell.execute_reply": "2023-10-30T19:16:15.604806Z"
    },
    "papermill": {
     "duration": 0.0886,
     "end_time": "2023-10-30T19:16:15.609046",
     "exception": false,
     "start_time": "2023-10-30T19:16:15.520446",
     "status": "completed"
    },
    "tags": []
   },
   "outputs": [],
   "source": [
    "rnn.add(Embedding(num_words,32,input_length=len(x_train[0])))"
   ]
  },
  {
   "cell_type": "code",
   "execution_count": 30,
   "id": "52ff1857",
   "metadata": {
    "execution": {
     "iopub.execute_input": "2023-10-30T19:16:15.649025Z",
     "iopub.status.busy": "2023-10-30T19:16:15.648591Z",
     "iopub.status.idle": "2023-10-30T19:16:15.789909Z",
     "shell.execute_reply": "2023-10-30T19:16:15.788348Z"
    },
    "papermill": {
     "duration": 0.16422,
     "end_time": "2023-10-30T19:16:15.792680",
     "exception": false,
     "start_time": "2023-10-30T19:16:15.628460",
     "status": "completed"
    },
    "tags": []
   },
   "outputs": [],
   "source": [
    "rnn.add(SimpleRNN(16,input_shape=(num_words,maxlen),return_sequences=False,activation='relu'))"
   ]
  },
  {
   "cell_type": "code",
   "execution_count": 31,
   "id": "6689a277",
   "metadata": {
    "execution": {
     "iopub.execute_input": "2023-10-30T19:16:15.833645Z",
     "iopub.status.busy": "2023-10-30T19:16:15.833257Z",
     "iopub.status.idle": "2023-10-30T19:16:15.892040Z",
     "shell.execute_reply": "2023-10-30T19:16:15.890548Z"
    },
    "papermill": {
     "duration": 0.086473,
     "end_time": "2023-10-30T19:16:15.898860",
     "exception": false,
     "start_time": "2023-10-30T19:16:15.812387",
     "status": "completed"
    },
    "tags": []
   },
   "outputs": [
    {
     "name": "stdout",
     "output_type": "stream",
     "text": [
      "Model: \"sequential\"\n",
      "_________________________________________________________________\n",
      " Layer (type)                Output Shape              Param #   \n",
      "=================================================================\n",
      " embedding (Embedding)       (None, 130, 32)           480000    \n",
      "                                                                 \n",
      " simple_rnn (SimpleRNN)      (None, 16)                784       \n",
      "                                                                 \n",
      " dense (Dense)               (None, 1)                 17        \n",
      "                                                                 \n",
      "=================================================================\n",
      "Total params: 480,801\n",
      "Trainable params: 480,801\n",
      "Non-trainable params: 0\n",
      "_________________________________________________________________\n",
      "None\n"
     ]
    }
   ],
   "source": [
    "rnn.add(Dense(1, activation='sigmoid'))\n",
    "\n",
    "# Model derlemesi\n",
    "rnn.compile(loss=\"binary_crossentropy\", optimizer=\"rmsprop\", metrics=[\"accuracy\"])\n",
    "\n",
    "# Model özetini görüntüleme\n",
    "print(rnn.summary())"
   ]
  },
  {
   "cell_type": "code",
   "execution_count": 32,
   "id": "e7a9a71c",
   "metadata": {
    "execution": {
     "iopub.execute_input": "2023-10-30T19:16:15.940984Z",
     "iopub.status.busy": "2023-10-30T19:16:15.940542Z",
     "iopub.status.idle": "2023-10-30T19:17:02.586290Z",
     "shell.execute_reply": "2023-10-30T19:17:02.584720Z"
    },
    "papermill": {
     "duration": 46.67024,
     "end_time": "2023-10-30T19:17:02.589176",
     "exception": false,
     "start_time": "2023-10-30T19:16:15.918936",
     "status": "completed"
    },
    "tags": []
   },
   "outputs": [
    {
     "name": "stdout",
     "output_type": "stream",
     "text": [
      "Epoch 1/5\n",
      "196/196 [==============================] - 11s 48ms/step - loss: 0.6498 - accuracy: 0.6309 - val_loss: 0.5745 - val_accuracy: 0.7823\n",
      "Epoch 2/5\n",
      "196/196 [==============================] - 9s 48ms/step - loss: 0.5133 - accuracy: 0.8104 - val_loss: 0.5330 - val_accuracy: 0.7926\n",
      "Epoch 3/5\n",
      "196/196 [==============================] - 9s 44ms/step - loss: 0.4137 - accuracy: 0.8457 - val_loss: 0.3833 - val_accuracy: 0.8355\n",
      "Epoch 4/5\n",
      "196/196 [==============================] - 9s 45ms/step - loss: 0.3543 - accuracy: 0.8640 - val_loss: 0.3741 - val_accuracy: 0.8386\n",
      "Epoch 5/5\n",
      "196/196 [==============================] - 9s 45ms/step - loss: 0.3088 - accuracy: 0.8762 - val_loss: 0.3625 - val_accuracy: 0.8430\n"
     ]
    }
   ],
   "source": [
    "history = rnn.fit(x_train, y_train, validation_data=(x_test, y_test), epochs=5, batch_size=128, verbose=1)\n"
   ]
  },
  {
   "cell_type": "code",
   "execution_count": 33,
   "id": "a60cbcdf",
   "metadata": {
    "execution": {
     "iopub.execute_input": "2023-10-30T19:17:02.728614Z",
     "iopub.status.busy": "2023-10-30T19:17:02.728153Z",
     "iopub.status.idle": "2023-10-30T19:17:13.045667Z",
     "shell.execute_reply": "2023-10-30T19:17:13.044284Z"
    },
    "papermill": {
     "duration": 10.391676,
     "end_time": "2023-10-30T19:17:13.048643",
     "exception": false,
     "start_time": "2023-10-30T19:17:02.656967",
     "status": "completed"
    },
    "tags": []
   },
   "outputs": [
    {
     "name": "stdout",
     "output_type": "stream",
     "text": [
      "782/782 [==============================] - 7s 9ms/step - loss: 0.3625 - accuracy: 0.8430\n"
     ]
    }
   ],
   "source": [
    "score = rnn.evaluate(x_test,y_test)"
   ]
  },
  {
   "cell_type": "code",
   "execution_count": 34,
   "id": "855b43de",
   "metadata": {
    "execution": {
     "iopub.execute_input": "2023-10-30T19:17:13.211352Z",
     "iopub.status.busy": "2023-10-30T19:17:13.210925Z",
     "iopub.status.idle": "2023-10-30T19:17:13.215865Z",
     "shell.execute_reply": "2023-10-30T19:17:13.215033Z"
    },
    "papermill": {
     "duration": 0.090065,
     "end_time": "2023-10-30T19:17:13.219065",
     "exception": false,
     "start_time": "2023-10-30T19:17:13.129000",
     "status": "completed"
    },
    "tags": []
   },
   "outputs": [
    {
     "name": "stdout",
     "output_type": "stream",
     "text": [
      "accuracy 84.30399894714355\n"
     ]
    }
   ],
   "source": [
    "print(\"accuracy\", score[1]*100)"
   ]
  },
  {
   "cell_type": "code",
   "execution_count": 35,
   "id": "a2549d80",
   "metadata": {
    "execution": {
     "iopub.execute_input": "2023-10-30T19:17:13.376154Z",
     "iopub.status.busy": "2023-10-30T19:17:13.375282Z",
     "iopub.status.idle": "2023-10-30T19:17:13.720016Z",
     "shell.execute_reply": "2023-10-30T19:17:13.718721Z"
    },
    "papermill": {
     "duration": 0.425854,
     "end_time": "2023-10-30T19:17:13.722745",
     "exception": false,
     "start_time": "2023-10-30T19:17:13.296891",
     "status": "completed"
    },
    "tags": []
   },
   "outputs": [
    {
     "data": {
      "image/png": "[encoded data removed]",
      "text/plain": [
       "<Figure size 640x480 with 1 Axes>"
      ]
     },
     "metadata": {},
     "output_type": "display_data"
    }
   ],
   "source": [
    "plt.figure() \n",
    "plt.plot(history.history[\"accuracy\"], label=\"Train\")\n",
    "plt.plot(history.history[\"val_accuracy\"], label=\"test\")\n",
    "plt.title(\"acc\") \n",
    "plt.xlabel(\"epoch\") \n",
    "plt.ylabel(\"acc\") \n",
    "plt.legend()\n",
    "plt.show()"
   ]
  },
  {
   "cell_type": "code",
   "execution_count": 36,
   "id": "91519655",
   "metadata": {
    "execution": {
     "iopub.execute_input": "2023-10-30T19:17:13.883123Z",
     "iopub.status.busy": "2023-10-30T19:17:13.882665Z",
     "iopub.status.idle": "2023-10-30T19:17:14.235234Z",
     "shell.execute_reply": "2023-10-30T19:17:14.233845Z"
    },
    "papermill": {
     "duration": 0.436655,
     "end_time": "2023-10-30T19:17:14.238035",
     "exception": false,
     "start_time": "2023-10-30T19:17:13.801380",
     "status": "completed"
    },
    "tags": []
   },
   "outputs": [
    {
     "data": {
      "image/png": "[encoded data removed]",
      "text/plain": [
       "<Figure size 640x480 with 1 Axes>"
      ]
     },
     "metadata": {},
     "output_type": "display_data"
    }
   ],
   "source": [
    "plt.figure() \n",
    "plt.plot(history.history[\"accuracy\"], label=\"Train\")\n",
    "plt.plot(history.history[\"val_loss\"], label=\"test\")\n",
    "plt.title(\"acc\") \n",
    "plt.xlabel(\"epoch\") \n",
    "plt.ylabel(\"loss\") \n",
    "plt.legend()\n",
    "plt.show()"
   ]
  }
 ],
 "metadata": {
  "kernelspec": {
   "display_name": "Python 3",
   "language": "python",
   "name": "python3"
  },
  "language_info": {
   "codemirror_mode": {
    "name": "ipython",
    "version": 3
   },
   "file_extension": ".py",
   "mimetype": "text/x-python",
   "name": "python",
   "nbconvert_exporter": "python",
   "pygments_lexer": "ipython3",
   "version": "3.10.12"
  },
  "papermill": {
   "default_parameters": {},
   "duration": 95.207108,
   "end_time": "2023-10-30T19:17:16.146393",
   "environment_variables": {},
   "exception": null,
   "input_path": "__notebook__.ipynb",
   "output_path": "__notebook__.ipynb",
   "parameters": {},
   "start_time": "2023-10-30T19:15:40.939285",
   "version": "2.4.0"
  }
 },
 "nbformat": 4,
 "nbformat_minor": 5
}
