{
 "cells": [
  {
   "cell_type": "code",
   "execution_count": 1,
   "id": "da9d961b",
   "metadata": {
    "_cell_guid": "b1076dfc-b9ad-4769-8c92-a6c4dae69d19",
    "_uuid": "8f2839f25d086af736a60e9eeb907d3b93b6e0e5",
    "execution": {
     "iopub.execute_input": "2023-10-23T16:51:36.607225Z",
     "iopub.status.busy": "2023-10-23T16:51:36.606306Z",
     "iopub.status.idle": "2023-10-23T16:51:48.796761Z",
     "shell.execute_reply": "2023-10-23T16:51:48.795223Z"
    },
    "papermill": {
     "duration": 12.202971,
     "end_time": "2023-10-23T16:51:48.799889",
     "exception": false,
     "start_time": "2023-10-23T16:51:36.596918",
     "status": "completed"
    },
    "tags": []
   },
   "outputs": [],
   "source": [
    "import numpy as np # linear algebra\n",
    "import pandas as pd # data processing, CSV file I/O (e.g. pd.read_csv)\n",
    "import tensorflow as tf\n",
    "from tensorflow.keras import datasets,layers,models\n",
    "import matplotlib.pyplot as plt"
   ]
  },
  {
   "cell_type": "code",
   "execution_count": 2,
   "id": "19a3d83b",
   "metadata": {
    "execution": {
     "iopub.execute_input": "2023-10-23T16:51:48.817271Z",
     "iopub.status.busy": "2023-10-23T16:51:48.815260Z",
     "iopub.status.idle": "2023-10-23T16:51:55.657051Z",
     "shell.execute_reply": "2023-10-23T16:51:55.655675Z"
    },
    "papermill": {
     "duration": 6.853335,
     "end_time": "2023-10-23T16:51:55.660202",
     "exception": false,
     "start_time": "2023-10-23T16:51:48.806867",
     "status": "completed"
    },
    "tags": []
   },
   "outputs": [
    {
     "name": "stdout",
     "output_type": "stream",
     "text": [
      "Downloading data from https://www.cs.toronto.edu/~kriz/cifar-10-python.tar.gz\n",
      "170498071/170498071 [==============================] - 4s 0us/step\n"
     ]
    }
   ],
   "source": [
    "(xtrain,ytrain),(xtest,ytest)= datasets.cifar10.load_data()"
   ]
  },
  {
   "cell_type": "code",
   "execution_count": 3,
   "id": "8b8b5b0b",
   "metadata": {
    "execution": {
     "iopub.execute_input": "2023-10-23T16:51:55.688891Z",
     "iopub.status.busy": "2023-10-23T16:51:55.688480Z",
     "iopub.status.idle": "2023-10-23T16:51:55.698360Z",
     "shell.execute_reply": "2023-10-23T16:51:55.696971Z"
    },
    "papermill": {
     "duration": 0.027297,
     "end_time": "2023-10-23T16:51:55.700944",
     "exception": false,
     "start_time": "2023-10-23T16:51:55.673647",
     "status": "completed"
    },
    "tags": []
   },
   "outputs": [
    {
     "data": {
      "text/plain": [
       "(50000, 32, 32, 3)"
      ]
     },
     "execution_count": 3,
     "metadata": {},
     "output_type": "execute_result"
    }
   ],
   "source": [
    "xtrain.shape"
   ]
  },
  {
   "cell_type": "code",
   "execution_count": 4,
   "id": "df5fc048",
   "metadata": {
    "execution": {
     "iopub.execute_input": "2023-10-23T16:51:55.730859Z",
     "iopub.status.busy": "2023-10-23T16:51:55.730424Z",
     "iopub.status.idle": "2023-10-23T16:51:55.736836Z",
     "shell.execute_reply": "2023-10-23T16:51:55.735344Z"
    },
    "papermill": {
     "duration": 0.024732,
     "end_time": "2023-10-23T16:51:55.739720",
     "exception": false,
     "start_time": "2023-10-23T16:51:55.714988",
     "status": "completed"
    },
    "tags": []
   },
   "outputs": [],
   "source": [
    "ytest = ytest.reshape(-1,)"
   ]
  },
  {
   "cell_type": "code",
   "execution_count": 5,
   "id": "f61b9a3b",
   "metadata": {
    "execution": {
     "iopub.execute_input": "2023-10-23T16:51:55.769985Z",
     "iopub.status.busy": "2023-10-23T16:51:55.769322Z",
     "iopub.status.idle": "2023-10-23T16:51:55.778772Z",
     "shell.execute_reply": "2023-10-23T16:51:55.777470Z"
    },
    "papermill": {
     "duration": 0.028118,
     "end_time": "2023-10-23T16:51:55.781956",
     "exception": false,
     "start_time": "2023-10-23T16:51:55.753838",
     "status": "completed"
    },
    "tags": []
   },
   "outputs": [
    {
     "data": {
      "text/plain": [
       "array([3, 8, 8, ..., 5, 1, 7], dtype=uint8)"
      ]
     },
     "execution_count": 5,
     "metadata": {},
     "output_type": "execute_result"
    }
   ],
   "source": [
    "ytest"
   ]
  },
  {
   "cell_type": "code",
   "execution_count": 6,
   "id": "65e05fb1",
   "metadata": {
    "execution": {
     "iopub.execute_input": "2023-10-23T16:51:55.812594Z",
     "iopub.status.busy": "2023-10-23T16:51:55.811828Z",
     "iopub.status.idle": "2023-10-23T16:51:55.818243Z",
     "shell.execute_reply": "2023-10-23T16:51:55.816786Z"
    },
    "papermill": {
     "duration": 0.0247,
     "end_time": "2023-10-23T16:51:55.820707",
     "exception": false,
     "start_time": "2023-10-23T16:51:55.796007",
     "status": "completed"
    },
    "tags": []
   },
   "outputs": [],
   "source": [
    "classes = [\"plane\",\"car\",\"bird\",\"cat\",\"dear\",\"dog\",\"frog\",\"horse\",\"ship\",\"truck\"]"
   ]
  },
  {
   "cell_type": "code",
   "execution_count": 7,
   "id": "0722e67a",
   "metadata": {
    "execution": {
     "iopub.execute_input": "2023-10-23T16:51:55.851085Z",
     "iopub.status.busy": "2023-10-23T16:51:55.850656Z",
     "iopub.status.idle": "2023-10-23T16:51:55.856612Z",
     "shell.execute_reply": "2023-10-23T16:51:55.855674Z"
    },
    "papermill": {
     "duration": 0.024332,
     "end_time": "2023-10-23T16:51:55.859254",
     "exception": false,
     "start_time": "2023-10-23T16:51:55.834922",
     "status": "completed"
    },
    "tags": []
   },
   "outputs": [],
   "source": [
    "def sample(x,y,index):\n",
    "    plt.figure(figsize=(15,2))\n",
    "    plt.imshow(x[index])\n",
    "    plt.xlabel(classes[y[index]])"
   ]
  },
  {
   "cell_type": "code",
   "execution_count": 8,
   "id": "ff32c515",
   "metadata": {
    "execution": {
     "iopub.execute_input": "2023-10-23T16:51:55.890217Z",
     "iopub.status.busy": "2023-10-23T16:51:55.889821Z",
     "iopub.status.idle": "2023-10-23T16:51:56.140495Z",
     "shell.execute_reply": "2023-10-23T16:51:56.139568Z"
    },
    "papermill": {
     "duration": 0.269094,
     "end_time": "2023-10-23T16:51:56.143136",
     "exception": false,
     "start_time": "2023-10-23T16:51:55.874042",
     "status": "completed"
    },
    "tags": []
   },
   "outputs": [
    {
     "data": {
      "image/png": "[encoded data removed]",
      "text/plain": [
       "<Figure size 1500x200 with 1 Axes>"
      ]
     },
     "metadata": {},
     "output_type": "display_data"
    }
   ],
   "source": [
    "sample(xtest,ytest,6)"
   ]
  },
  {
   "cell_type": "code",
   "execution_count": 9,
   "id": "f7b85022",
   "metadata": {
    "execution": {
     "iopub.execute_input": "2023-10-23T16:51:56.174981Z",
     "iopub.status.busy": "2023-10-23T16:51:56.173779Z",
     "iopub.status.idle": "2023-10-23T16:51:56.902858Z",
     "shell.execute_reply": "2023-10-23T16:51:56.901461Z"
    },
    "papermill": {
     "duration": 0.748361,
     "end_time": "2023-10-23T16:51:56.906045",
     "exception": false,
     "start_time": "2023-10-23T16:51:56.157684",
     "status": "completed"
    },
    "tags": []
   },
   "outputs": [],
   "source": [
    "xtrain = xtrain/255\n",
    "xtest = xtest/255"
   ]
  },
  {
   "cell_type": "code",
   "execution_count": 10,
   "id": "d34666f9",
   "metadata": {
    "execution": {
     "iopub.execute_input": "2023-10-23T16:51:56.937082Z",
     "iopub.status.busy": "2023-10-23T16:51:56.936595Z",
     "iopub.status.idle": "2023-10-23T16:51:57.180233Z",
     "shell.execute_reply": "2023-10-23T16:51:57.178921Z"
    },
    "papermill": {
     "duration": 0.263187,
     "end_time": "2023-10-23T16:51:57.183652",
     "exception": false,
     "start_time": "2023-10-23T16:51:56.920465",
     "status": "completed"
    },
    "tags": []
   },
   "outputs": [],
   "source": [
    "model = models.Sequential([\n",
    "    layers.Conv2D(filters=32,kernel_size=(3,3),activation= \"relu\",input_shape= (32,32,3)),\n",
    "    layers.MaxPooling2D(2,2),\n",
    "    \n",
    "    layers.Conv2D(filters=64,kernel_size=(3,3),activation=\"relu\"),\n",
    "    layers.MaxPooling2D(2,2),\n",
    "    \n",
    "    layers.Flatten(),\n",
    "    layers.Dense(64,activation=\"relu\"),\n",
    "    layers.Dense(10,activation=\"softmax\")\n",
    "    \n",
    "    \n",
    "])"
   ]
  },
  {
   "cell_type": "code",
   "execution_count": 11,
   "id": "ceff3cd9",
   "metadata": {
    "execution": {
     "iopub.execute_input": "2023-10-23T16:51:57.215150Z",
     "iopub.status.busy": "2023-10-23T16:51:57.214173Z",
     "iopub.status.idle": "2023-10-23T16:51:57.235911Z",
     "shell.execute_reply": "2023-10-23T16:51:57.234739Z"
    },
    "papermill": {
     "duration": 0.040237,
     "end_time": "2023-10-23T16:51:57.238824",
     "exception": false,
     "start_time": "2023-10-23T16:51:57.198587",
     "status": "completed"
    },
    "tags": []
   },
   "outputs": [],
   "source": [
    "model.compile(optimizer=\"adam\",\n",
    "             loss=\"sparse_categorical_crossentropy\",\n",
    "             metrics=[\"accuracy\"])\n"
   ]
  },
  {
   "cell_type": "code",
   "execution_count": 12,
   "id": "5644596d",
   "metadata": {
    "execution": {
     "iopub.execute_input": "2023-10-23T16:51:57.268694Z",
     "iopub.status.busy": "2023-10-23T16:51:57.268247Z",
     "iopub.status.idle": "2023-10-23T17:02:07.333144Z",
     "shell.execute_reply": "2023-10-23T17:02:07.331714Z"
    },
    "papermill": {
     "duration": 610.082915,
     "end_time": "2023-10-23T17:02:07.335982",
     "exception": false,
     "start_time": "2023-10-23T16:51:57.253067",
     "status": "completed"
    },
    "tags": []
   },
   "outputs": [
    {
     "name": "stdout",
     "output_type": "stream",
     "text": [
      "Epoch 1/15\n",
      "1563/1563 [==============================] - 43s 27ms/step - loss: 1.4449 - accuracy: 0.4827\n",
      "Epoch 2/15\n",
      "1563/1563 [==============================] - 40s 26ms/step - loss: 1.1055 - accuracy: 0.6147\n",
      "Epoch 3/15\n",
      "1563/1563 [==============================] - 40s 26ms/step - loss: 0.9708 - accuracy: 0.6617\n",
      "Epoch 4/15\n",
      "1563/1563 [==============================] - 41s 26ms/step - loss: 0.8866 - accuracy: 0.6919\n",
      "Epoch 5/15\n",
      "1563/1563 [==============================] - 41s 26ms/step - loss: 0.8186 - accuracy: 0.7152\n",
      "Epoch 6/15\n",
      "1563/1563 [==============================] - 40s 26ms/step - loss: 0.7576 - accuracy: 0.7391\n",
      "Epoch 7/15\n",
      "1563/1563 [==============================] - 40s 26ms/step - loss: 0.7076 - accuracy: 0.7540\n",
      "Epoch 8/15\n",
      "1563/1563 [==============================] - 40s 26ms/step - loss: 0.6620 - accuracy: 0.7713\n",
      "Epoch 9/15\n",
      "1563/1563 [==============================] - 41s 26ms/step - loss: 0.6262 - accuracy: 0.7811\n",
      "Epoch 10/15\n",
      "1563/1563 [==============================] - 40s 26ms/step - loss: 0.5827 - accuracy: 0.7964\n",
      "Epoch 11/15\n",
      "1563/1563 [==============================] - 40s 25ms/step - loss: 0.5458 - accuracy: 0.8070\n",
      "Epoch 12/15\n",
      "1563/1563 [==============================] - 40s 26ms/step - loss: 0.5129 - accuracy: 0.8216\n",
      "Epoch 13/15\n",
      "1563/1563 [==============================] - 41s 26ms/step - loss: 0.4751 - accuracy: 0.8328\n",
      "Epoch 14/15\n",
      "1563/1563 [==============================] - 40s 26ms/step - loss: 0.4497 - accuracy: 0.8429\n",
      "Epoch 15/15\n",
      "1563/1563 [==============================] - 40s 26ms/step - loss: 0.4210 - accuracy: 0.8503\n"
     ]
    },
    {
     "data": {
      "text/plain": [
       "<keras.callbacks.History at 0x7fe8c475fdf0>"
      ]
     },
     "execution_count": 12,
     "metadata": {},
     "output_type": "execute_result"
    }
   ],
   "source": [
    "model.fit(xtrain,ytrain,epochs=15)"
   ]
  },
  {
   "cell_type": "code",
   "execution_count": 13,
   "id": "8a932be2",
   "metadata": {
    "execution": {
     "iopub.execute_input": "2023-10-23T17:02:09.327702Z",
     "iopub.status.busy": "2023-10-23T17:02:09.327175Z",
     "iopub.status.idle": "2023-10-23T17:02:14.970827Z",
     "shell.execute_reply": "2023-10-23T17:02:14.969672Z"
    },
    "papermill": {
     "duration": 6.647602,
     "end_time": "2023-10-23T17:02:14.974530",
     "exception": false,
     "start_time": "2023-10-23T17:02:08.326928",
     "status": "completed"
    },
    "tags": []
   },
   "outputs": [
    {
     "name": "stdout",
     "output_type": "stream",
     "text": [
      "313/313 [==============================] - 3s 9ms/step - loss: 1.0901 - accuracy: 0.6987\n"
     ]
    },
    {
     "data": {
      "text/plain": [
       "[1.0900700092315674, 0.6987000107765198]"
      ]
     },
     "execution_count": 13,
     "metadata": {},
     "output_type": "execute_result"
    }
   ],
   "source": [
    "model.evaluate(xtest,ytest)"
   ]
  },
  {
   "cell_type": "code",
   "execution_count": 14,
   "id": "c4e793d8",
   "metadata": {
    "execution": {
     "iopub.execute_input": "2023-10-23T17:02:17.086620Z",
     "iopub.status.busy": "2023-10-23T17:02:17.085782Z",
     "iopub.status.idle": "2023-10-23T17:02:22.633506Z",
     "shell.execute_reply": "2023-10-23T17:02:22.632223Z"
    },
    "papermill": {
     "duration": 6.532167,
     "end_time": "2023-10-23T17:02:22.636156",
     "exception": false,
     "start_time": "2023-10-23T17:02:16.103989",
     "status": "completed"
    },
    "tags": []
   },
   "outputs": [
    {
     "name": "stdout",
     "output_type": "stream",
     "text": [
      "313/313 [==============================] - 3s 9ms/step\n"
     ]
    },
    {
     "data": {
      "text/plain": [
       "array([[4.9481860e-05, 1.7650075e-04, 9.4278381e-05, 9.1301090e-01,\n",
       "        2.3954350e-05, 8.1815720e-02, 1.7597300e-03, 1.3380210e-04,\n",
       "        2.8585270e-03, 7.7225661e-05],\n",
       "       [6.1441011e-07, 3.4179652e-04, 1.9170462e-12, 9.9327335e-12,\n",
       "        5.6890002e-13, 9.8207900e-13, 2.9420158e-14, 4.7433184e-14,\n",
       "        9.9965727e-01, 3.5921548e-07],\n",
       "       [1.5915396e-02, 2.1549460e-02, 3.0296760e-05, 1.5480537e-03,\n",
       "        1.7995409e-03, 4.4423176e-04, 9.4964798e-07, 6.5073388e-04,\n",
       "        8.8267505e-01, 7.5386234e-02]], dtype=float32)"
      ]
     },
     "execution_count": 14,
     "metadata": {},
     "output_type": "execute_result"
    }
   ],
   "source": [
    "y_pred =model.predict(xtest)\n",
    "y_pred[:3]"
   ]
  },
  {
   "cell_type": "code",
   "execution_count": 15,
   "id": "dd607caa",
   "metadata": {
    "execution": {
     "iopub.execute_input": "2023-10-23T17:02:24.723726Z",
     "iopub.status.busy": "2023-10-23T17:02:24.723100Z",
     "iopub.status.idle": "2023-10-23T17:02:24.776281Z",
     "shell.execute_reply": "2023-10-23T17:02:24.774559Z"
    },
    "papermill": {
     "duration": 1.041284,
     "end_time": "2023-10-23T17:02:24.779421",
     "exception": false,
     "start_time": "2023-10-23T17:02:23.738137",
     "status": "completed"
    },
    "tags": []
   },
   "outputs": [
    {
     "data": {
      "text/plain": [
       "[3, 8, 8]"
      ]
     },
     "execution_count": 15,
     "metadata": {},
     "output_type": "execute_result"
    }
   ],
   "source": [
    "y_pred1 = [np.argmax(element) for element in y_pred]\n",
    "y_pred1[:3]"
   ]
  },
  {
   "cell_type": "code",
   "execution_count": 16,
   "id": "58052b49",
   "metadata": {
    "execution": {
     "iopub.execute_input": "2023-10-23T17:02:26.868525Z",
     "iopub.status.busy": "2023-10-23T17:02:26.867654Z",
     "iopub.status.idle": "2023-10-23T17:02:27.088085Z",
     "shell.execute_reply": "2023-10-23T17:02:27.086817Z"
    },
    "papermill": {
     "duration": 1.324133,
     "end_time": "2023-10-23T17:02:27.091025",
     "exception": false,
     "start_time": "2023-10-23T17:02:25.766892",
     "status": "completed"
    },
    "tags": []
   },
   "outputs": [
    {
     "data": {
      "image/png": "[encoded data removed]",
      "text/plain": [
       "<Figure size 1500x200 with 1 Axes>"
      ]
     },
     "metadata": {},
     "output_type": "display_data"
    }
   ],
   "source": [
    "sample(xtest,ytest,0)"
   ]
  },
  {
   "cell_type": "code",
   "execution_count": 17,
   "id": "93c2eb47",
   "metadata": {
    "execution": {
     "iopub.execute_input": "2023-10-23T17:02:29.087296Z",
     "iopub.status.busy": "2023-10-23T17:02:29.086855Z",
     "iopub.status.idle": "2023-10-23T17:02:29.317783Z",
     "shell.execute_reply": "2023-10-23T17:02:29.316312Z"
    },
    "papermill": {
     "duration": 1.240882,
     "end_time": "2023-10-23T17:02:29.320742",
     "exception": false,
     "start_time": "2023-10-23T17:02:28.079860",
     "status": "completed"
    },
    "tags": []
   },
   "outputs": [
    {
     "data": {
      "image/png": "[encoded data removed]",
      "text/plain": [
       "<Figure size 1500x200 with 1 Axes>"
      ]
     },
     "metadata": {},
     "output_type": "display_data"
    }
   ],
   "source": [
    "sample(xtest,ytest,1)"
   ]
  },
  {
   "cell_type": "code",
   "execution_count": null,
   "id": "606bd24f",
   "metadata": {
    "papermill": {
     "duration": 0.982104,
     "end_time": "2023-10-23T17:02:31.398045",
     "exception": false,
     "start_time": "2023-10-23T17:02:30.415941",
     "status": "completed"
    },
    "tags": []
   },
   "outputs": [],
   "source": []
  },
  {
   "cell_type": "code",
   "execution_count": null,
   "id": "82d638fc",
   "metadata": {
    "papermill": {
     "duration": 0.982509,
     "end_time": "2023-10-23T17:02:33.481277",
     "exception": false,
     "start_time": "2023-10-23T17:02:32.498768",
     "status": "completed"
    },
    "tags": []
   },
   "outputs": [],
   "source": []
  }
 ],
 "metadata": {
  "kernelspec": {
   "display_name": "Python 3",
   "language": "python",
   "name": "python3"
  },
  "language_info": {
   "codemirror_mode": {
    "name": "ipython",
    "version": 3
   },
   "file_extension": ".py",
   "mimetype": "text/x-python",
   "name": "python",
   "nbconvert_exporter": "python",
   "pygments_lexer": "ipython3",
   "version": "3.10.12"
  },
  "papermill": {
   "default_parameters": {},
   "duration": 665.647562,
   "end_time": "2023-10-23T17:02:37.112171",
   "environment_variables": {},
   "exception": null,
   "input_path": "__notebook__.ipynb",
   "output_path": "__notebook__.ipynb",
   "parameters": {},
   "start_time": "2023-10-23T16:51:31.464609",
   "version": "2.4.0"
  }
 },
 "nbformat": 4,
 "nbformat_minor": 5
}
